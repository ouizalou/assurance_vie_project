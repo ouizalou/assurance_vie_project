{
  "metadata": {
    "kernelspec": {
      "name": "py-dku-venv-custom_env_v1",
      "display_name": "Python (env custom_env_v1)",
      "language": "python"
    },
    "language_info": {
      "name": "python",
      "version": "3.11.11",
      "mimetype": "text/x-python",
      "codemirror_mode": {
        "name": "ipython",
        "version": 3
      },
      "pygments_lexer": "ipython3",
      "nbconvert_exporter": "python",
      "file_extension": ".py"
    },
    "customFields": {},
    "createdOn": 1755445552625,
    "creator": "admin",
    "tags": [],
    "modifiedBy": "admin",
    "versionNumber": 1
  },
  "nbformat": 4,
  "nbformat_minor": 1,
  "cells": [
    {
      "execution_count": 0,
      "cell_type": "code",
      "metadata": {},
      "source": [
        ""
      ],
      "outputs": []
    },
    {
      "execution_count": 0,
      "cell_type": "code",
      "metadata": {},
      "source": [
        "import pandas as pd\nimport matplotlib.pyplot as plt\nimport seaborn as sn\n\n# Chargement du dataset Dataiku\nimport dataiku\nDF_clients \u003d dataiku.Dataset(\"montant_investi\").get_dataframe()\n\n# Vérification\nif not DF_clients.empty:\n    # Conversion au cas où\n    DF_clients[\u0027total_investi\u0027] \u003d pd.to_numeric(DF_clients[\u0027total_investi\u0027], errors\u003d\u0027coerce\u0027)\n    DF_clients \u003d DF_clients.sort_values(by\u003d\"total_investi\", ascending\u003dFalse).head(15)\n\n    plt.figure(figsize\u003d(10,6))\n    sn.barplot(\n        data\u003dDF_clients,\n        x\u003d\u0027nom\u0027,\n        y\u003d\u0027total_investi\u0027,\n        color\u003d\"skyblue\"  # \u003c- ici, on change palette par color\n    )\n    plt.title(\"Montant total investi par client\", fontsize\u003d14)\n    plt.xlabel(\"Clients\", fontsize\u003d12)\n    plt.ylabel(\"Montant (€)\", fontsize\u003d12)\n    plt.xticks(rotation\u003d45, ha\u003d\"right\")\n    plt.tight_layout()\n    plt.show()\nelse:\n    print(\"⚠️ DF_clients est vide.\")\n"
      ],
      "outputs": []
    },
    {
      "execution_count": 0,
      "cell_type": "code",
      "metadata": {},
      "source": [
        ""
      ],
      "outputs": []
    }
  ]
}