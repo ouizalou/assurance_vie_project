{
  "metadata": {
    "kernelspec": {
      "name": "py-dku-venv-internal_object_detection_v1",
      "display_name": "Python (env INTERNAL_object_detection_v1)",
      "language": "python"
    },
    "language_info": {
      "name": "python",
      "version": "3.11.11",
      "mimetype": "text/x-python",
      "codemirror_mode": {
        "name": "ipython",
        "version": 3
      },
      "pygments_lexer": "ipython3",
      "nbconvert_exporter": "python",
      "file_extension": ".py"
    },
    "customFields": {},
    "tags": [],
    "createdOn": 1755946504435,
    "creator": "admin",
    "modifiedBy": "admin"
  },
  "nbformat": 4,
  "nbformat_minor": 5,
  "cells": [
    {
      "execution_count": 0,
      "cell_type": "code",
      "metadata": {},
      "source": [
        "import dataiku\nimport pandas as pd\nfrom sklearn.model_selection import train_test_split, cross_val_score\nfrom sklearn.pipeline import Pipeline\nfrom sklearn.preprocessing import StandardScaler\nfrom sklearn.ensemble import RandomForestClassifier\nfrom sklearn.metrics import classification_report, confusion_matrix, roc_auc_score\nimport warnings\nwarnings.filterwarnings(\"ignore\", category\u003dDeprecationWarning)\n\n\n# -----------------------------\n# 1️⃣ Charger le dataset\n# -----------------------------\ndf \u003d dataiku.Dataset(\"montant_investi\").get_dataframe()\n\n# -----------------------------\n# 2️⃣ Créer la colonne cible\n# -----------------------------\nseuil_vip \u003d df[\u0027total_investi\u0027].quantile(0.75)\ndf[\u0027categorie\u0027] \u003d df[\u0027total_investi\u0027].apply(lambda x: \u0027VIP\u0027 if x \u003e seuil_vip else \u0027Normal\u0027)\n\n# -----------------------------\n# 3️⃣ Définir les features\n# -----------------------------\nfeatures \u003d [\u0027nbre_contrat_investi\u0027, \u0027rang_investisseur\u0027]\ndf \u003d df.dropna(subset\u003dfeatures + [\u0027categorie\u0027])\n\nX \u003d df[features]\ny \u003d df[\u0027categorie\u0027]\n\n# -----------------------------\n# 4️⃣ Pipeline préprocessing + modèle\n# -----------------------------\npipeline \u003d Pipeline([\n    (\u0027scaler\u0027, StandardScaler()),\n    (\u0027clf\u0027, RandomForestClassifier(\n        n_estimators\u003d200,\n        random_state\u003d42,\n        class_weight\u003d\"balanced\"\n    ))\n])\n\n# -----------------------------\n# 5️⃣ Validation croisée + test\n# -----------------------------\nscores \u003d cross_val_score(pipeline, X, y, cv\u003d5, scoring\u003d\u0027accuracy\u0027)\nprint(\"Accuracy moyenne (CV):\", scores.mean())\n\nX_train, X_test, y_train, y_test \u003d train_test_split(\n    X, y, test_size\u003d0.2, random_state\u003d42, stratify\u003dy\n)\n\npipeline.fit(X_train, y_train)\ny_pred \u003d pipeline.predict(X_test)\ny_proba \u003d pipeline.predict_proba(X_test)[:, 1]\n\nprint(\"Matrice de confusion :\")\nprint(confusion_matrix(y_test, y_pred))\nprint(\"\\nRapport de classification :\")\nprint(classification_report(y_test, y_pred))\nprint(\"AUC ROC:\", roc_auc_score((y_test\u003d\u003d\"VIP\").astype(int), y_proba))\n\n# -----------------------------\n# 6️⃣ Ajouter les prédictions\n# -----------------------------\ndf[\u0027categorie_pred\u0027] \u003d pipeline.predict(X)\ndf[\u0027proba_vip\u0027] \u003d pipeline.predict_proba(X)[:, 1]\n\n# -----------------------------\n# 7️⃣ Sauvegarde dataset final\n# -----------------------------\ndf_out \u003d df[[\u0027client_id\u0027, \u0027nbre_contrat_investi\u0027, \u0027rang_investisseur\u0027,\n             \u0027total_investi\u0027, \u0027categorie\u0027, \u0027categorie_pred\u0027, \u0027proba_vip\u0027]]\n\noutput_dataset \u003d dataiku.Dataset(\"montant_investi_predic_model\")\noutput_dataset.write_with_schema(df_out)"
      ],
      "outputs": []
    },
    {
      "execution_count": 0,
      "cell_type": "code",
      "metadata": {},
      "source": [
        ""
      ],
      "outputs": []
    }
  ]
}